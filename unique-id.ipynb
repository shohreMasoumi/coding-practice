{
 "cells": [
  {
   "cell_type": "markdown",
   "metadata": {},
   "source": [
    "# Unique ID generation\n",
    "\n",
    "*Leetcode reference*: [link](https://leetcode.com/discuss/interview-question/system-design/3092436/Design-Unique-ID-Generator)\n",
    "\n",
    "Unique IDs are crucial for tracking, managing resources, and ensuring that every entry or operation can be uniquely identified across the system.\n",
    "\n",
    "Design a distributed system to provide a unique ID with each request.\n",
    "\n",
    "``` python\n",
    "def generator():\n",
    "    \"\"\"\n",
    "    Returns:\n",
    "      str: random string comprised from digits ^[0-9a-zA-Z]{k}$\n",
    "    \"\"\"\n",
    "    pass\n",
    "```\n",
    "\n",
    "Example 1:\n",
    "```\n",
    "Input: k = 5\n",
    "Output: a1B2c\n",
    "Explanation: ...\n",
    "```\n",
    "\n",
    "<style>\n",
    "/* CSS to change font size of code blocks */\n",
    "pre {\n",
    "    font-size: 12px;\n",
    "}\n",
    "code {\n",
    "    font-size: small;\n",
    "}\n",
    "</style> "
   ]
  },
  {
   "cell_type": "markdown",
   "metadata": {},
   "source": [
    "## Personal Notes\n",
    "\n",
    "My first question would be: How many unique IDs do we estimate we need to generate? This will help us determine the necessary number of characters in each ID.\n",
    "\n",
    "For example, if we know we won't generate more than 100 IDs, we can use two-digit IDs, such as: 11, 32, 94, ...\n",
    "\n",
    "The next code is a simple implementation for generating a sequence with a length of 5 characters, made up of digits, lower case, and upper case alphabet."
   ]
  },
  {
   "cell_type": "code",
   "execution_count": 11,
   "metadata": {},
   "outputs": [
    {
     "name": "stdout",
     "output_type": "stream",
     "text": [
      "G5n1u\n",
      "MGyQQ\n"
     ]
    }
   ],
   "source": [
    "import string\n",
    "import random\n",
    "\n",
    "digits = string.digits\n",
    "lower_case_chars = string.ascii_lowercase\n",
    "upper_case_chars = string.ascii_uppercase\n",
    "\n",
    "def generator(k = 5):\n",
    "    s = ''\n",
    "    while k > 0:\n",
    "        digit = random.choice(digits)\n",
    "        lower_char = random.choice(lower_case_chars)\n",
    "        upper_char = random.choice(upper_case_chars)\n",
    "        rand = random.randint(1,3)\n",
    "        if rand == 1:\n",
    "            next = digit\n",
    "        elif rand == 2:\n",
    "            next = lower_char\n",
    "        else:\n",
    "            next = upper_char\n",
    "        s += next\n",
    "        k -= 1\n",
    "    return s\n",
    "\n",
    "print(generator())\n",
    "print(generator())\n",
    "\n",
    "# In this strategy, there is a (1/(10 + 26 + 26)) ^ k probability that the generated id is repeated \n",
    "# Time complexity: O(k)\n",
    "# Space complexity: O(1)"
   ]
  },
  {
   "cell_type": "markdown",
   "metadata": {},
   "source": [
    "More efficient implement:"
   ]
  },
  {
   "cell_type": "code",
   "execution_count": 12,
   "metadata": {},
   "outputs": [
    {
     "name": "stdout",
     "output_type": "stream",
     "text": [
      "kvlrr\n",
      "omsmMIV5wU\n"
     ]
    }
   ],
   "source": [
    "import random\n",
    "import string\n",
    "\n",
    "def generator(k=5):\n",
    "    all_chars = string.digits + string.ascii_lowercase + string.ascii_uppercase\n",
    "    return ''.join(random.choices(all_chars, k=k))\n",
    "\n",
    "print(generator(5))\n",
    "print(generator(10))"
   ]
  },
  {
   "cell_type": "markdown",
   "metadata": {},
   "source": [
    "## Exploring the Distributed Systems Aspect in Detail\n",
    "\n",
    "*Generated with ChatGPT's assistance*\n",
    "\n",
    "### System Requirements\n",
    "\n",
    "- **Uniqueness**: No two IDs should be the same, even if requests are processed concurrently or by different nodes in the distributed system.\n",
    "- **Scalability**: The system should be able to handle a large number of requests and scale horizontally.\n",
    "- **Availability**: It should provide IDs even in the event of partial system failures or network partitions.\n",
    "- **Performance**: The system should be capable of generating IDs quickly, with minimal latency, to meet real-time or near-real-time processing requirements.\n",
    "- **Consistency**: In the event of failures or network partitions, the system should ensure that IDs remain unique and that the system can recover gracefully.\n",
    "\n",
    "### Design Considerations\n",
    "\n",
    "- **ID Format**: Define the format and structure of the IDs (e.g., numeric, alphanumeric, or a combination). <br>Ensure that the format is suitable for the system's needs and supports the expected volume of IDs.\n",
    "- **Coordination Mechanisms**: Implement mechanisms to coordinate between distributed nodes to avoid conflicts and ensure uniqueness. This could involve centralized coordination or decentralized approaches, depending on the system's architecture.\n",
    "- **Redundancy and Fault Tolerance**: Design the system to handle node failures gracefully, ensuring that ID generation continues without disruption. Implement redundancy and fault-tolerant mechanisms to maintain high availability.\n",
    "- **Performance Optimization**: Optimize the system for performance, considering factors such as load balancing, caching, and efficient network communication to minimize latency in ID generation.\n",
    "- **Scalability Strategy**: Develop a strategy to scale the system both vertically (adding resources to individual nodes) and horizontally (adding more nodes) to handle increasing demand.\n",
    "- **Security**: Consider potential security implications, such as ensuring that IDs cannot be easily predicted or forged, and implement appropriate measures to protect the integrity of the ID generation process.\n",
    "\n",
    "### Example Solution Approaches:\n",
    "- **Centralized ID Generation Service**: A single service responsible for generating unique IDs, with other components interacting with this service to obtain IDs. This approach simplifies uniqueness management but can become a bottleneck.\n",
    "- **Distributed ID Generation with Time-based or Sequential Strategies**: Nodes generate unique IDs based on a combination of timestamps and sequence numbers, with mechanisms to avoid collisions and ensure uniqueness.\n",
    "- **UUIDs (Universally Unique Identifiers)**: Use UUIDs, which are designed to be globally unique. UUID generation can be distributed without requiring central coordination, making it a suitable option for many distributed systems.\n",
    "- **Combination Approaches**: Combine different strategies, such as using a central authority for ID prefixing and distributed nodes for suffix generation, to balance coordination and scalability."
   ]
  },
  {
   "cell_type": "markdown",
   "metadata": {},
   "source": [
    "### Distributed Unique ID Generator Implementation\n",
    "\n",
    "*Generated with ChatGPT's assistance*\n",
    "\n",
    "This solution uses a combination of `timestamp`, `machine_id`, and `sequence_number`. <br>\n",
    "This approach is inspired by the <span style=\"color:yellow\">Snowflake ID</span> generator by Twitter, which ensures unique IDs across distributed systems.\n",
    "\n",
    "#### Role of Epoch\n",
    "\n",
    "An `epoch` is a specific point in time used as a reference for measuring time intervals. <br>\n",
    "In the context of unique ID generator, the epoch is the starting point from which timestamps are counted. <br>\n",
    "This helps in generating unique IDs that are time-ordered and avoids conflicts. <br>\n",
    "\n",
    "By subtracting the epoch from the current time, you get a relative timestamp that can be used in generating unique IDs.\n",
    "\n",
    "\n",
    "#### Threading \n",
    "\n",
    "Threading is a technique in Python that allows you to run multiple threads (smaller units of a process) concurrently, enabling parallel execution of tasks within a single process. <br>\n",
    "*Example usage*: This can be particularly useful for I/O-bound tasks, such as reading from or writing to a file or network operations, as it can improve performance by overlapping waiting periods with computation.\n",
    "\n",
    "For Synchronization, a `lock` is used to control access to a shared resource by multiple threads, ensuring that only one thread can access the critical section of code at a time, preventing race conditions. <br>\n",
    "Without a lock, multiple threads might access and modify shared resources (`sequence_number` and `last_timestamp`) concurrently, leading to inconsistencies and potentially non-unique IDs."
   ]
  },
  {
   "cell_type": "code",
   "execution_count": 3,
   "metadata": {},
   "outputs": [
    {
     "name": "stdout",
     "output_type": "stream",
     "text": [
      "1822771922056777728\n",
      "1822771922060972032\n",
      "1822771922065166336\n",
      "1822771922069360640\n",
      "1822771922073554944\n"
     ]
    }
   ],
   "source": [
    "import time\n",
    "import threading\n",
    "\n",
    "class Unique_id_generator:\n",
    "    def __init__(self, machine_id, epoch_start=1288834974657):\n",
    "        self.machine_id = machine_id # A unique identifier for each machine or instance generating IDs, ensuring uniqueness across different machines\n",
    "        self.epoch_start = epoch_start # Epoch reference time\n",
    "        self.sequence_number = 0 # A sequence number that increments with each ID generated within the same millisecond, avoiding collisions\n",
    "        self.last_timestamp = -1 # ensuring the IDs are time-ordered\n",
    "        self.lock = threading.Lock() # This creates a lock object. The lock is initially unlocked. \n",
    "\n",
    "    def _get_current_timestamp(self):\n",
    "        return int(time.time() * 1000) # in milliseconds\n",
    "\n",
    "    def _wait_for_next_millis(self, last_timestamp):\n",
    "        # while self._get_current_timestamp() < next_timestamp:\n",
    "        #     continue\n",
    "        # return self._get_current_timestamp()\n",
    "        timestamp = self._get_current_timestamp()\n",
    "        while timestamp <= last_timestamp:\n",
    "            timestamp = self._get_current_timestamp()\n",
    "        return timestamp\n",
    "\n",
    "    def generate_id(self):\n",
    "        with self.lock: # Acquire the lock before entering the critical section\n",
    "\n",
    "            timestamp = self._get_current_timestamp() # ensuring IDs are time-ordered and avoiding conflicts\n",
    "            \n",
    "            if timestamp < self.last_timestamp:\n",
    "                raise Exception(\"Clock moved backwards. Refusing to generate id\")\n",
    "            elif timestamp == self.last_timestamp: # Handling IDs Generated in the Same Millisecond\n",
    "                # This block of code handles this situation by managing the sequence number to ensure each ID is unique.\n",
    "                self.sequence = (self.sequence_number + 1) & 0xFFF  # incrementing a sequence number and ensures that the result is limited to the lower 12 bits\n",
    "                if self.sequence_number == 0:\n",
    "                    # If the sequence number wraps around to 0, it means that the limit of 4096 unique IDs for that millisecond has been reached.\n",
    "                    timestamp = self._wait_for_next_millis(self.last_timestamp)\n",
    "            else:\n",
    "                self.sequence = 0\n",
    "\n",
    "            self.last_timestamp = timestamp\n",
    "\n",
    "            # Bit shifting to construct the unique ID\n",
    "            # We are going to generate the unique id by combining different components into a single integer:\n",
    "            #   `timestamp - self.epoch_start`: calculates the number of milliseconds that have passed since the epoch\n",
    "            #   `<<22`: Shifting by 22 bits left. Moving timestamp component to the higher-order bits of the unique ID, making room for other components\n",
    "            #   `|`: Bitwise OR, combining the shifted components into a single integer. \n",
    "            unique_id = ((timestamp - self.epoch_start) << 22) | (self.machine_id << 12) | self.sequence_number\n",
    "        \n",
    "        # Releasing the lock automatically when exiting the block\n",
    "        return unique_id\n",
    "        \n",
    "\n",
    "generator = Unique_id_generator(machine_id=1)\n",
    "for _ in range(5):\n",
    "    unique_id = generator.generate_id()\n",
    "    print(unique_id)"
   ]
  },
  {
   "cell_type": "markdown",
   "metadata": {},
   "source": [
    "#### Parallelism vs Synchronization?\n",
    "\n",
    "**Parallelism**: refers to the simultaneous *execution* of multiple tasks or threads. <br>\n",
    "The primary goal of parallelism is to improve performance and efficiency by executing multiple operations concurrently.\n",
    "\n",
    "**Synchronization**: refers to the *coordination* of concurrent threads or processes to ensure that they operate in a controlled and predictable manner. <br>\n",
    "The main goal of synchronization is to manage access to shared resources and avoid conflicts or inconsistencies.\n",
    "\n",
    "Example Scenario: <br>\n",
    "Imagine a web server handling multiple client requests (parallelism) while ensuring that all requests are handled correctly and without interfering with each other’s data (synchronization). The server may process requests in parallel, but synchronization mechanisms (like locks or atomic operations) ensure that shared resources, such as a database, are accessed safely and consistently. <br>\n",
    "In essence, parallelism and synchronization work together: parallelism aims to maximize efficiency by running multiple tasks at once, while synchronization ensures that these tasks do not disrupt each other and operate correctly.\n"
   ]
  }
 ],
 "metadata": {
  "kernelspec": {
   "display_name": "Python 3",
   "language": "python",
   "name": "python3"
  },
  "language_info": {
   "codemirror_mode": {
    "name": "ipython",
    "version": 3
   },
   "file_extension": ".py",
   "mimetype": "text/x-python",
   "name": "python",
   "nbconvert_exporter": "python",
   "pygments_lexer": "ipython3",
   "version": "3.9.6"
  }
 },
 "nbformat": 4,
 "nbformat_minor": 2
}
