{
 "cells": [
  {
   "attachments": {},
   "cell_type": "markdown",
   "metadata": {},
   "source": [
    "# Continuous Integration/Continuous Deployment (CI/CD)\n",
    "\n",
    "## Continuous Integration (CI)\n",
    "Change management is essential in software development. Once you make a change, you need to merge your changes where other people in your team can see it and ultimately use it. One of the most prominent version control applications in github.\n",
    "\n",
    "Each time you integrate your code with the source, an automatic *build* process should be triggered that compiles the code with new changes and possibly runs tests.\n",
    "\n",
    "The main goal in this step is to catch and address the integration errors as early as possible in the development lifecycle, reducing the risk of conflicts and ensuring that the codebase remains stable.\n",
    "\n",
    "## Continuous Deployment (CD)\n",
    "\n",
    "After the build, we need to make the executables available for users in a target environment as well as adjust server configurations, transfer any files and update the databases if applicable. \n",
    "\n",
    "\n",
    "\n"
   ]
  }
 ],
 "metadata": {
  "language_info": {
   "name": "python"
  },
  "orig_nbformat": 4
 },
 "nbformat": 4,
 "nbformat_minor": 2
}
