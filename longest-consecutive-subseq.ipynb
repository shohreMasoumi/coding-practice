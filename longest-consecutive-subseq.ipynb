{
 "cells": [
  {
   "cell_type": "markdown",
   "metadata": {},
   "source": [
    "# Longest Consecutive Subsequence - No Reordering\n",
    "\n",
    "Given a list of integers L, find the maximum length of a sequence of consecutive numbers that can be formed using elements from L without changing the order in which the numbers appear in the original list.\n",
    "\n",
    "``` python\n",
    "def max_length_consecutive_subseq_no_reordering(num):\n",
    "    \"\"\"\n",
    "    Args:\n",
    "      nums ([int]): list of integers\n",
    "    Returns:\n",
    "      the length of the longest substring that contains consecutive numbers\n",
    "    \"\"\"\n",
    "    pass\n",
    "```\n",
    "\n",
    "Example 1:\n",
    "```\n",
    "Input: nums = [3, 0, 4, 1, 2, 7, 6, 3]\n",
    "Output: 4\n",
    "Explanation: longest consecutive subsequencew is [0, 1, 2, 3]\n",
    "```\n",
    "\n",
    "<style>\n",
    "/* CSS to change font size of code blocks */\n",
    "pre {\n",
    "    font-size: 12px; /* Adjust the font size as needed */\n",
    "}\n",
    "code {\n",
    "    font-size: small; /* Adjust the font size as needed */\n",
    "}\n",
    "</style> "
   ]
  },
  {
   "cell_type": "code",
   "execution_count": 13,
   "metadata": {},
   "outputs": [
    {
     "name": "stdout",
     "output_type": "stream",
     "text": [
      "4\n",
      "5\n",
      "0\n"
     ]
    }
   ],
   "source": [
    "def max_length_consecutive_subseq_no_reordering(nums):\n",
    "    ans = 0\n",
    "    memo = {}\n",
    "    for num in nums:\n",
    "        if num - 1 in memo:\n",
    "            current_count = memo[num - 1]\n",
    "            del memo[num - 1]\n",
    "            memo[num] = current_count + 1\n",
    "        else:\n",
    "            memo[num] = 1\n",
    "        ans = max(ans, memo[num])\n",
    "    return ans\n",
    "\n",
    "nums = [3, 0, 4, 1, 2, 7, 6, 3]\n",
    "print(max_length_consecutive_subseq_no_reordering(nums))\n",
    "nums = [3, 0, 4, 1, 2, 5, 6, 7]\n",
    "print(max_length_consecutive_subseq_no_reordering(nums))\n",
    "nums = []\n",
    "print(max_length_consecutive_subseq_no_reordering(nums))\n",
    "\n",
    "# Time complexity: O(N)\n",
    "# Space complexcity: O(N)"
   ]
  },
  {
   "cell_type": "markdown",
   "metadata": {},
   "source": [
    "# Extension 1: Longest Consecutive Subsequence - With Reordering\n",
    "\n",
    "Given a list of integers L, find the maximum length of a sequence of consecutive numbers that can be formed using elements from L. \n",
    "\n",
    "*Leetcode 128*: [link](https://leetcode.com/problems/longest-consecutive-sequence/description/)\n",
    "\n",
    "\n",
    "Example 1:\n",
    "```\n",
    "Input: nums = [100,4,200,1,3,2]\n",
    "Output: 4\n",
    "Explanation: longest consecutive subsequence that can be constructed with numbers in the input is [1, 2, 3, 4]\n",
    "```\n",
    "\n",
    "Example 2:\n",
    "```\n",
    "Input: nums = [0,3,7,2,5,8,4,6,0,1]\n",
    "Output: 9\n",
    "Explanation: [0, 1, 2, 3, 4, 5, 6, 7, 8]\n",
    "```\n",
    "\n",
    "Example 3:\n",
    "```\n",
    "Input: nums = [-7,-1,3,-9,-4,7,-3,2,4,9,4,-9,8,-7,5,-1,-7]\n",
    "Output: 4\n",
    "Explanation: [2, 3, 4, 5]\n",
    "```\n",
    "\n",
    "<style>\n",
    "/* CSS to change font size of code blocks */\n",
    "pre {\n",
    "    font-size: 12px; /* Adjust the font size as needed */\n",
    "}\n",
    "code {\n",
    "    font-size: small; /* Adjust the font size as needed */\n",
    "}\n",
    "</style> "
   ]
  },
  {
   "cell_type": "markdown",
   "metadata": {},
   "source": [
    "# Basic Approach: Brute force\n",
    "\n",
    "*Hints*: Time Complexity: O(N^3), Space Complexity(1)"
   ]
  },
  {
   "cell_type": "code",
   "execution_count": 14,
   "metadata": {},
   "outputs": [
    {
     "name": "stdout",
     "output_type": "stream",
     "text": [
      "4\n",
      "8\n",
      "0\n",
      "4\n",
      "5\n"
     ]
    }
   ],
   "source": [
    "def max_length_consecutive_subseq_with_reordering_brute_force(nums):\n",
    "    max_length = 0\n",
    "    for num in nums:\n",
    "        flag = True\n",
    "        next_num = num\n",
    "        while flag:\n",
    "            flag = False\n",
    "            next_num += 1\n",
    "            for candidate in nums:\n",
    "                if candidate == next_num:\n",
    "                    flag = True\n",
    "                    break\n",
    "        max_length = max(max_length, next_num - num)\n",
    "\n",
    "    return max_length\n",
    "\n",
    "nums = [100,4,200,1,3,2]\n",
    "print(max_length_consecutive_subseq_with_reordering_brute_force(nums))\n",
    "nums = [3, 0, 4, 1, 2, 5, 6, 7]\n",
    "print(max_length_consecutive_subseq_with_reordering_brute_force(nums))\n",
    "nums = []\n",
    "print(max_length_consecutive_subseq_with_reordering_brute_force(nums))\n",
    "nums = [-7,-1,3,-9,-4,7,-3,2,4,9,4,-9,8,-7,5,-1,-7]\n",
    "print(max_length_consecutive_subseq_with_reordering_brute_force(nums))\n",
    "nums = [3, 4, 5, 1, 2]\n",
    "print(max_length_consecutive_subseq_with_reordering_brute_force(nums))"
   ]
  },
  {
   "cell_type": "markdown",
   "metadata": {},
   "source": [
    "Improving time complexity to linear - `O(N)`:"
   ]
  },
  {
   "cell_type": "code",
   "execution_count": 15,
   "metadata": {},
   "outputs": [
    {
     "name": "stdout",
     "output_type": "stream",
     "text": [
      "4\n",
      "8\n",
      "0\n",
      "4\n",
      "5\n"
     ]
    }
   ],
   "source": [
    "def max_length_consecutive_subseq_with_reordering(nums):\n",
    "    heads = {}\n",
    "    tails = {}\n",
    "    max_length = 0\n",
    "    for num in nums:\n",
    "        if num in heads or num in tails:\n",
    "            continue\n",
    "        if num + 1 not in heads and num - 1 not in tails:\n",
    "            heads[num] = [num]\n",
    "            tails[num] = [num]\n",
    "            max_length = max(max_length, 1)\n",
    "        elif num + 1 not in heads and num - 1 in tails:\n",
    "            current_list = tails[num - 1]\n",
    "            current_length = len(current_list)\n",
    "            current_head = current_list[0]\n",
    "            del tails[num - 1]\n",
    "            new_list = current_list + [num]\n",
    "            heads[current_head] = new_list\n",
    "            tails[num] = new_list\n",
    "            max_length = max(max_length, current_length + 1)\n",
    "        elif num + 1 in heads and num - 1 not in tails:\n",
    "            current_list = heads[num + 1]\n",
    "            current_length = len(current_list)\n",
    "            current_tail = current_list[current_length - 1]\n",
    "            del heads[num + 1]\n",
    "            new_list = [num] + current_list\n",
    "            heads[num] = new_list\n",
    "            tails[current_tail] = new_list\n",
    "            max_length = max(max_length, current_length + 1)\n",
    "        else:\n",
    "            # num + 1 in heads and num - 1 in tails\n",
    "            left_list = tails[num - 1]\n",
    "            left_head = left_list[0]\n",
    "            right_list = heads[num + 1]\n",
    "            right_tail = right_list[len(right_list) - 1]\n",
    "            del tails[num - 1]\n",
    "            del heads[num + 1]\n",
    "            new_list = left_list + [num] + right_list\n",
    "            new_length = len(new_list)\n",
    "            heads[left_head] = new_list\n",
    "            tails[right_tail] = new_list\n",
    "            max_length = max(max_length, new_length)\n",
    "    \n",
    "    return max_length\n",
    "\n",
    "nums = [100,4,200,1,3,2]\n",
    "print(max_length_consecutive_subseq_with_reordering(nums))\n",
    "nums = [3, 0, 4, 1, 2, 5, 6, 7]\n",
    "print(max_length_consecutive_subseq_with_reordering(nums))\n",
    "nums = []\n",
    "print(max_length_consecutive_subseq_with_reordering(nums))\n",
    "nums = [-7,-1,3,-9,-4,7,-3,2,4,9,4,-9,8,-7,5,-1,-7]\n",
    "print(max_length_consecutive_subseq_with_reordering(nums))\n",
    "nums = [3, 4, 5, 1, 2]\n",
    "print(max_length_consecutive_subseq_with_reordering(nums))\n",
    "\n",
    "# Time complexity: O(N)\n",
    "# Space complexcity: O(N)"
   ]
  },
  {
   "cell_type": "markdown",
   "metadata": {},
   "source": [
    "More efficient implementation - using sets:"
   ]
  },
  {
   "cell_type": "code",
   "execution_count": 16,
   "metadata": {},
   "outputs": [
    {
     "name": "stdout",
     "output_type": "stream",
     "text": [
      "4\n",
      "8\n",
      "0\n",
      "4\n",
      "5\n"
     ]
    }
   ],
   "source": [
    "def max_length_consecutive_subseq_with_reordering_sets(nums):\n",
    "    num_set = set(nums) # storing the numbers in a list for O(1) look-up times. Takes O(N) time and O(N) space\n",
    "    max_length = 0 # keeping track of the maximum length of consecutive sequences found\n",
    "\n",
    "    for num in nums: # Iterate through each number in nums. Takes O(N) time\n",
    "        if num in num_set: # Takes O(1)\n",
    "            num_set.remove(num) # Removing the number from the set to avoid processing it again. Takes O(1).\n",
    "            current_length = 1\n",
    "\n",
    "            # Extend the sequence to the left\n",
    "            left = num - 1\n",
    "            while left in num_set:\n",
    "                num_set.remove(left)\n",
    "                current_length += 1\n",
    "                left -= 1\n",
    "\n",
    "            # Extend the sequence to the right\n",
    "            right = num + 1\n",
    "            while right in num_set:\n",
    "                num_set.remove(right)\n",
    "                current_length += 1\n",
    "                right += 1\n",
    "\n",
    "            # Update the maximum length\n",
    "            max_length = max(max_length, current_length)\n",
    "\n",
    "    return max_length\n",
    "\n",
    "nums = [100,4,200,1,3,2]\n",
    "print(max_length_consecutive_subseq_with_reordering_sets(nums))\n",
    "nums = [3, 0, 4, 1, 2, 5, 6, 7]\n",
    "print(max_length_consecutive_subseq_with_reordering_sets(nums))\n",
    "nums = []\n",
    "print(max_length_consecutive_subseq_with_reordering_sets(nums))\n",
    "nums = [-7,-1,3,-9,-4,7,-3,2,4,9,4,-9,8,-7,5,-1,-7]\n",
    "print(max_length_consecutive_subseq_with_reordering_sets(nums))\n",
    "nums = [3, 4, 5, 1, 2]\n",
    "print(max_length_consecutive_subseq_with_reordering_sets(nums))\n",
    "\n",
    "# Time complexity: O(N) - Each number is seen/processed only once then it is removed from the set\n",
    "#   Thus, even though the while loops might seem like they could be expensive, \n",
    "#   they collectively iterate over all numbers in nums exactly once in total across all iterations of the main loop.\n",
    "# Space complexcity: O(N)"
   ]
  },
  {
   "cell_type": "markdown",
   "metadata": {},
   "source": [
    "## Next Approach: Union-Find\n",
    "\n",
    "TBD"
   ]
  }
 ],
 "metadata": {
  "kernelspec": {
   "display_name": "Python 3",
   "language": "python",
   "name": "python3"
  },
  "language_info": {
   "codemirror_mode": {
    "name": "ipython",
    "version": 3
   },
   "file_extension": ".py",
   "mimetype": "text/x-python",
   "name": "python",
   "nbconvert_exporter": "python",
   "pygments_lexer": "ipython3",
   "version": "3.9.6"
  }
 },
 "nbformat": 4,
 "nbformat_minor": 2
}
