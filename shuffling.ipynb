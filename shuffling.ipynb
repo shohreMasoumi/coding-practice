{
 "cells": [
  {
   "attachments": {},
   "cell_type": "markdown",
   "metadata": {},
   "source": [
    "# Shuffling"
   ]
  },
  {
   "attachments": {},
   "cell_type": "markdown",
   "metadata": {},
   "source": [
    "## Shuffle With a Pattern\n",
    "\n",
    "Design and implement algorithm that takes in a string and shuffles it in a specific pattern. The shuffle pattern is defined by an array of integers, where each integer represents the index position to which the character at that index should be moved.\n",
    "\n",
    "``` python\n",
    "def shuffle(s, pattern):\n",
    "    \"\"\"\n",
    "    Args:\n",
    "      s (string): \n",
    "      pattern ([int]): an integer array indices\n",
    "    Returns:\n",
    "      s: shuffled version of the input string such that the character at the ith position moves to pattern[i] in the shuffled string\n",
    "    \"\"\"\n",
    "    pass\n",
    "```\n",
    "\n",
    "Example 1:\n",
    "```\n",
    "Input: s = \"hello\", pattern = [3, 0, 4, 1, 2]\n",
    "Output: \"olelh\"\n",
    "Explanation: \n",
    "Character at index 0 ('h') moves to index 3\n",
    "Character at index 1 ('e') moves to index 0\n",
    "Character at index 2 ('l') moves to index 4\n",
    "Character at index 3 ('l') moves to index 1\n",
    "Character at index 4 ('o') moves to index 2\n",
    "```\n",
    "\n",
    "<style>\n",
    "/* CSS to change font size of code blocks */\n",
    "pre {\n",
    "    font-size: 12px; /* Adjust the font size as needed */\n",
    "}\n",
    "code {\n",
    "    font-size: small; /* Adjust the font size as needed */\n",
    "}\n",
    "</style> "
   ]
  },
  {
   "attachments": {},
   "cell_type": "markdown",
   "metadata": {},
   "source": [
    "### Solution\n",
    "\n",
    "Seeking clarification prior to engaging with the challenge:\n",
    "\n",
    "__Q__: Can the shuffle pattern contain duplicate indices? If so, should the characters be moved to the same position as the duplicate index suggests?</br>\n",
    "__A__: let's solve the problem with the pattern containing unique indices for now.\n",
    "\n",
    "__Q__: What should be the behavior if the pattern array contains negative indices or indices larger than the length of the input string?</br>\n",
    "__A__: All values in the pattern array are valid indices.\n",
    "\n",
    "__Q__: Will the pattern array always have the same length as the input string?</br>\n",
    "__A__: Yes.\n",
    "\n",
    "__Q__: Will there ever be case where the input sting or the patter is empty?</br>\n",
    "__A__: The input sting can be empty but the pattern array always has the same length as input string.\n",
    "\n",
    "\n",
    "__Q__: Should this operation be performed in-place? </br>\n",
    "__A__: Since attempting to directly modify a character within a string in python results in an error, no.\n"
   ]
  },
  {
   "cell_type": "code",
   "execution_count": 2,
   "metadata": {},
   "outputs": [
    {
     "name": "stdout",
     "output_type": "stream",
     "text": [
      "elohl\n"
     ]
    }
   ],
   "source": [
    "def shuffle(s, pattern):\n",
    "    # Time complexity:\n",
    "    #  O(n). Each letter of the input string is visited once\n",
    "    # Space complexity:\n",
    "    #  O(n)\n",
    "    n = len(s)\n",
    "    shuffle_arr = ['*'] * n\n",
    "    for i in range(n):\n",
    "        shuffle_arr[pattern[i]] = s[i]\n",
    "    return ''.join(shuffle_arr)\n",
    "\n",
    "print(shuffle(\"hello\", [3, 0, 4, 1, 2])) # Should print \"olelh\""
   ]
  },
  {
   "attachments": {},
   "cell_type": "markdown",
   "metadata": {},
   "source": [
    "## Shuffle With a Pattern - In Place\n",
    "\n",
    "Design and implement algorithm that takes in a list and shuffles it **in-place** according to a an array of integers, where each integer represents the index position to which the element at that index should be moved to.\n",
    "\n",
    "``` python\n",
    "def shuffle(num, pattern):\n",
    "    \"\"\"\n",
    "    Args:\n",
    "      nums ([int]): an array of integers\n",
    "      pattern ([int]): an integer array indices\n",
    "    \"\"\"\n",
    "    pass\n",
    "```\n",
    "\n",
    "<style>\n",
    "/* CSS to change font size of code blocks */\n",
    "pre {\n",
    "    font-size: 12px; /* Adjust the font size as needed */\n",
    "}\n",
    "code {\n",
    "    font-size: small; /* Adjust the font size as needed */\n",
    "}\n",
    "</style> "
   ]
  },
  {
   "cell_type": "code",
   "execution_count": 26,
   "metadata": {},
   "outputs": [
    {
     "name": "stdout",
     "output_type": "stream",
     "text": [
      "[1, 3, 4, 0, 2]\n"
     ]
    }
   ],
   "source": [
    "def shuffle(nums, pattern):\n",
    "    # Time Complexity\n",
    "    #  O(n). Creating the moved array and initializing it takes O(n).\n",
    "    #  The main loop iterates through each element of the input array nums exactly once.\n",
    "    #  The the nested while loop is bound by the length og the input array, i.e., n.\n",
    "    #  In the worst case, each element may be visited twice, leading to a linear time complexity.\n",
    "    # Space Complexity\n",
    "    #  O(n). While we did eliminate the array that holds the answer, \n",
    "    #  to prevent infinite loop, we need an array that keeps the info of whether a particular element has been moved or not\n",
    "    n = len(nums)\n",
    "    moved = [False] * n\n",
    "    for i in range(n):\n",
    "        first = nums[i]\n",
    "        while not moved[i]:\n",
    "            second = nums[pattern[i]]\n",
    "            nums[pattern[i]] = first\n",
    "            moved[i] = True\n",
    "            i = pattern[i]\n",
    "            first = second\n",
    "\n",
    "nums = [0, 1, 2, 3, 4]\n",
    "pattern = [3, 0, 4, 1, 2]\n",
    "shuffle(nums, pattern)\n",
    "print(nums) # should print [ 1, 3, 4, 0, 2]"
   ]
  },
  {
   "attachments": {},
   "cell_type": "markdown",
   "metadata": {},
   "source": [
    "## Shuffle Randomly\n",
    "\n",
    "Design and implement an algorithm that takes in a sting an returns one of its permutations -- all permutations should be equally likely."
   ]
  },
  {
   "attachments": {},
   "cell_type": "markdown",
   "metadata": {},
   "source": [
    "### Before You Go\n",
    "\n",
    "__Q__: Would the input string ever be empty or with only one character?<br>\n",
    "__A__: Possibly."
   ]
  },
  {
   "cell_type": "code",
   "execution_count": 27,
   "metadata": {},
   "outputs": [
    {
     "name": "stdout",
     "output_type": "stream",
     "text": [
      "hlleo\n"
     ]
    }
   ],
   "source": [
    "import random\n",
    "\n",
    "def shuffle(s):\n",
    "    # Approach 1: Brute force\n",
    "    # Generate all the permutations and pick one at random. Would require O(n!) time since there are n! distinct permutations.\n",
    "    #\n",
    "    # Approach 2: for each index in the string, generate a random index until the random index was not seen before.\n",
    "    # Time complexity\n",
    "    #   O(n^2). There are n indices and at each index, we might have to try n times to generate a new random index \n",
    "    # Space complexity\n",
    "    #   O(n)\n",
    "    # Proof of uniform randomness: during the while loop, each index is equally likely to be selected \n",
    "    \n",
    "    n = len(s)\n",
    "    shuffled = ['*'] * n\n",
    "    i = 0\n",
    "    while i < n:\n",
    "        new_ind = random.randint(0, n-1)\n",
    "        if shuffled[new_ind] == '*':\n",
    "            shuffled[new_ind] = s[i]\n",
    "            i += 1\n",
    "    return ''.join(shuffled)\n",
    "\n",
    "print(shuffle(\"hello\"))"
   ]
  },
  {
   "attachments": {},
   "cell_type": "markdown",
   "metadata": {},
   "source": [
    "#### Proof of Uniform Randomness\n",
    "Consider\n",
    "\n",
    "$$\n",
    "P(\\text{ element at index } i \\text{ to be moved to index } j \\text{ }) = P( \\text{ seeing } j \\text{ at index } i \\text{ }) \\times P(j \\text{ not being chosen before } i \\text{ })\n",
    "$$\n",
    "\n",
    "Hence\n",
    "\n",
    "$$\n",
    "P(\\text{ element at index } i \\text{ to be moved to index } j \\text{ }) = \\frac{1}{n - i} \\times ( \\frac{n - 1}{n} \\times \\frac{n - 2}{n - 1} \\times \\frac{n - 3}{n - 2} \\times \\ldots \\times \\frac{n-1-(i-1)}{n-(i-1)}) =  \\frac{1}{n - i} \\times ( \\frac{1}{n} \\times \\frac{n-i}{1}) = \\frac{1}{n}\n",
    "$$\n"
   ]
  },
  {
   "attachments": {},
   "cell_type": "markdown",
   "metadata": {},
   "source": [
    "To improve the time complexity of the above approach:"
   ]
  },
  {
   "cell_type": "code",
   "execution_count": 28,
   "metadata": {},
   "outputs": [
    {
     "name": "stdout",
     "output_type": "stream",
     "text": [
      "hlelo\n"
     ]
    }
   ],
   "source": [
    "def shuffle(s):\n",
    "    # Time complexity\n",
    "    #   O(n). We iterate over each character in the string\n",
    "    #   It takes O(1) to remove an element by index from a list \n",
    "    # Space complexity\n",
    "    #   O(n)\n",
    "    n = len(s)\n",
    "    shuffled = ['*'] * n\n",
    "    indices = [i for i in range(n)]\n",
    "    for i in range(n):\n",
    "        new_ind = random.randint(0, len(indices) - 1)\n",
    "        shuffled[indices[new_ind]] = s[i]\n",
    "        indices.pop(new_ind)\n",
    "    return ''.join(shuffled)\n",
    "\n",
    "print(shuffle(\"hello\"))"
   ]
  },
  {
   "attachments": {},
   "cell_type": "markdown",
   "metadata": {},
   "source": [
    "### Fisher-Yates Algorithm \n",
    "\n",
    "We will discuss the Fisher-Yates algorithm (or Knuth shuffle) here since it is well known for its ability to generate uniformly random permutations."
   ]
  },
  {
   "cell_type": "code",
   "execution_count": 30,
   "metadata": {},
   "outputs": [
    {
     "name": "stdout",
     "output_type": "stream",
     "text": [
      "[2, 4, 3, 1, 0]\n"
     ]
    }
   ],
   "source": [
    "class Shuffler:\n",
    "    def __init__(self, nums):\n",
    "        self.nums = nums\n",
    "\n",
    "    def swap(self, i, j):\n",
    "        temp = self.nums[i]\n",
    "        self.nums[i] = self.nums[j]\n",
    "        self.nums[j] = temp\n",
    "\n",
    "    def fisher_yates(self):\n",
    "        # Time Complexity\n",
    "        #  O(n). We visit each element of array exactly once.\n",
    "        #  It takes O(1) to swap two elements of the array\n",
    "        # Space complexity\n",
    "        #  O(1)\n",
    "        n = len(nums)\n",
    "        for i in range(n):\n",
    "            new_ind = random.randint(i, n - 1)\n",
    "            self.swap(i, new_ind)\n",
    "\n",
    "\n",
    "my_shuffler = Shuffler([0, 1, 2, 3, 4])\n",
    "my_shuffler.fisher_yates()\n",
    "print(my_shuffler.nums)"
   ]
  },
  {
   "attachments": {},
   "cell_type": "markdown",
   "metadata": {},
   "source": [
    "\n",
    "\n",
    "#### Proof of Uniform Randomness\n",
    "Assume having an array `nums` of length `n`.\n",
    "\n",
    "At `nums[0]`, we have `n` indices to select from. At `nums[1]`, we have `n - 1` indices to select form. Hence, at `nums[i]`, we have `n - i` indices to select from and since all the indices greater than or equal to `i` have the same probability to be selected. \n",
    "\n",
    "If $P(X)$ indicates the probability of a particular permutation of `nums` being generated:\n",
    "\n",
    "$$\n",
    "P(X) = P(\\text{ nums[0] being placed in any particular position }) \\times P(\\text{ nums[1] being placed in any particular position }) \\times \\dots\n",
    "$$\n",
    "\n",
    "Hence:\n",
    "\n",
    "$$\n",
    "P(X) = \\frac{1}{n} \\times \\frac{1}{n - 1} \\dots =\\frac{1}{n!} \n",
    "$$\n",
    "\n",
    "$n!$ is the number of permutations of n elements in `nums` therefore, each permutation has an equal probability of being generated\n",
    "\n",
    "\n",
    "<style>\n",
    "/* CSS to change font size of code blocks */\n",
    "pre {\n",
    "    font-size: 12px; /* Adjust the font size as needed */\n",
    "}\n",
    "code {\n",
    "    font-size: small; /* Adjust the font size as needed */\n",
    "}\n",
    "</style> "
   ]
  }
 ],
 "metadata": {
  "kernelspec": {
   "display_name": "Python 3",
   "language": "python",
   "name": "python3"
  },
  "language_info": {
   "codemirror_mode": {
    "name": "ipython",
    "version": 3
   },
   "file_extension": ".py",
   "mimetype": "text/x-python",
   "name": "python",
   "nbconvert_exporter": "python",
   "pygments_lexer": "ipython3",
   "version": "3.11.3"
  },
  "orig_nbformat": 4
 },
 "nbformat": 4,
 "nbformat_minor": 2
}
