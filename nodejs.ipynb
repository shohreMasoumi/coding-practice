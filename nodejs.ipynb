{
 "cells": [
  {
   "cell_type": "markdown",
   "metadata": {},
   "source": [
    "# Node.js\n",
    "\n",
    "*Generated with the help of chatgpt*\n",
    "\n",
    "Node.js is a runtime environment that allows you to run JavaScript code on the server side. Unlike traditional JavaScript that runs in a web browser, Node.js enables you to build server-side applications using JavaScript.\n",
    "\n",
    "Key Features:\n",
    "- Non-blocking I/O: Node.js uses an event-driven, non-blocking I/O model, making it lightweight and efficient, especially for I/O-heavy operations.\n",
    "- Single Programming Language: You can use JavaScript for both client-side and server-side development, which can simplify the development process.\n",
    "- NPM (Node Package Manager): Node.js comes with a rich ecosystem of libraries and tools available through NPM.\n",
    "\n",
    "Here’s a simple example of a Node.js application that sets up a basic web server: <br>\n",
    "[x] Install Node.js: You need to have Node.js installed. You can download it from nodejs.org.\n",
    "\n",
    "Create a file named app.js with the following content:\n",
    "``` javascript\n",
    "// Load the http module to create an HTTP server.\n",
    "const http = require('http');\n",
    "\n",
    "// Configure the HTTP server to respond with \"Hello, World!\" to all requests.\n",
    "const hostname = '127.0.0.1';\n",
    "const port = 3000;\n",
    "\n",
    "const server = http.createServer((req, res) => {\n",
    "  res.statusCode = 200;\n",
    "  res.setHeader('Content-Type', 'text/plain');\n",
    "  res.end('Hello, World!\\n');\n",
    "});\n",
    "\n",
    "// Listen on port 3000 and IP address 127.0.0.1.\n",
    "server.listen(port, hostname, () => {\n",
    "  console.log(`Server running at http://${hostname}:${port}/`);\n",
    "});\n",
    "```\n",
    "\n",
    "Open your terminal, navigate to the directory where app.js is located, and run the following command:\n",
    "``` bash\n",
    "node app.js\n",
    "```\n",
    "\n",
    "Open your web browser and go to <small>`http://127.0.0.1:3000/`</small>. You should see the text <small>`\"Hello, World!\"`</small> .\n",
    "\n",
    "In this example, <small>`http.createServer`</small> sets up a server that listens for incoming requests. When a request is received, it sends back a response with the text <small>`\"Hello, World!\"`</small> and a status code of 200, which indicates success.\n",
    "\n",
    "<style>\n",
    "/* CSS to change font size of code blocks */\n",
    "pre {\n",
    "    font-size: 12px; /* Adjust the font size as needed */\n",
    "}\n",
    "</style>"
   ]
  }
 ],
 "metadata": {
  "language_info": {
   "name": "python"
  }
 },
 "nbformat": 4,
 "nbformat_minor": 2
}
