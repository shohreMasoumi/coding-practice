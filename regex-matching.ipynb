{
 "cells": [
  {
   "cell_type": "markdown",
   "metadata": {},
   "source": [
    "# Regular Expression Matching\n",
    "\n",
    "Given an input string (s) and a pattern (p), implement regular expression matching with support for `.`:\n",
    "- `.` Matches any single character.\n",
    "\n",
    "The matching should cover the entire input string (not partial).\n",
    "\n",
    "\n",
    "``` python\n",
    "def regex_matching(s, p):\n",
    "    \"\"\"\n",
    "    Args:\n",
    "      s (string): \n",
    "      p (string): \n",
    "    Returns:\n",
    "      (Bool): determine if the input sting matches the pattern\n",
    "    \"\"\"\n",
    "    pass\n",
    "```\n",
    "\n",
    "Example 1:\n",
    "```\n",
    "Input: s = \"abc\", p = \"a.c\"\n",
    "Output: True \n",
    "```\n"
   ]
  },
  {
   "cell_type": "code",
   "execution_count": 19,
   "metadata": {},
   "outputs": [
    {
     "name": "stdout",
     "output_type": "stream",
     "text": [
      "True\n",
      "False\n",
      "False\n"
     ]
    }
   ],
   "source": [
    "def regex_matching(s, p):\n",
    "    M, N = len(s), len(p)\n",
    "    i, j = 0, 0\n",
    "    while i < M and j < N:\n",
    "        if s[i] == p[j] or p[j] == '.':\n",
    "            i += 1\n",
    "            j += 1\n",
    "        else:\n",
    "            return False\n",
    "    \n",
    "    if i == M and j == N:\n",
    "        return True\n",
    "    else:\n",
    "        return False\n",
    "\n",
    "print(regex_matching(\"abc\", \"a..\"))\n",
    "print(regex_matching(\"abcz\", \"a..\"))\n",
    "print(regex_matching(\"abc\", \"a..z\"))\n",
    "\n",
    "# Time complexity: O(N)\n",
    "# Space complexity: O(1)"
   ]
  },
  {
   "cell_type": "markdown",
   "metadata": {},
   "source": [
    "Recursive approach:"
   ]
  },
  {
   "cell_type": "code",
   "execution_count": 20,
   "metadata": {},
   "outputs": [
    {
     "name": "stdout",
     "output_type": "stream",
     "text": [
      "True\n",
      "False\n",
      "False\n"
     ]
    }
   ],
   "source": [
    "def recursive_regex_matching(s, p):\n",
    "    M, N = len(s), len(p)\n",
    "    if M != N:\n",
    "        return False\n",
    "    elif M == 0:\n",
    "        return True\n",
    "    else:\n",
    "        return (s[0] == p[0] or p[0] == '.') and recursive_regex_matching(s[1:], p[1:])\n",
    "\n",
    "print(regex_matching(\"abc\", \"a..\"))\n",
    "print(regex_matching(\"abcz\", \"a..\"))\n",
    "print(regex_matching(\"abc\", \"a..z\"))\n",
    "\n",
    "# Time complexity: O(N)\n",
    "# Space complexity: O(N) if considering recursion stack"
   ]
  },
  {
   "cell_type": "markdown",
   "metadata": {},
   "source": [
    "# Extension 1: Regular Expression Matching With Wildcard (`*`)\n",
    "\n",
    "*Leetcode 10*: [link](https://leetcode.com/problems/regular-expression-matching/description/)\n",
    "\n",
    "Given an input string (s) and a pattern (p), implement regular expression matching with support for `.` and `*`:\n",
    "- `.` Matches any single character.\n",
    "- `*` Matches zero or more of the preceding element.\n",
    "\n",
    "The matching should cover the entire input string (not partial).\n",
    "\n",
    "``` python\n",
    "def regex_matching(s, p):\n",
    "    \"\"\"\n",
    "    Args:\n",
    "      s (string): \n",
    "      p (string): \n",
    "    Returns:\n",
    "      (Bool): determine if the input sting matches the pattern\n",
    "    \"\"\"\n",
    "    pass\n",
    "```\n",
    "\n",
    "Example 1:\n",
    "```\n",
    "Input: s = \"aa\", p = \"a*\"\n",
    "Output: True\n",
    "```\n",
    "\n",
    "Example 2:\n",
    "```\n",
    "Input: s = \"dataStructure\", p = \".*\"\n",
    "Output: True\n",
    "```\n",
    "\n",
    "Example 3:\n",
    "```\n",
    "Input: s = \"dataStructure\", p = \".*x.*\"\n",
    "Output: False\n",
    "```\n",
    "\n",
    "<style>\n",
    "/* CSS to change font size of code blocks */\n",
    "pre {\n",
    "    font-size: 12px; /* Adjust the font size as needed */\n",
    "}\n",
    "code {\n",
    "    font-size: small; /* Adjust the font size as needed */\n",
    "}\n",
    "</style> "
   ]
  },
  {
   "cell_type": "markdown",
   "metadata": {},
   "source": [
    "## Key Questions to Consider Before Starting\n",
    "\n",
    "__Q__: Will the pattern contain any characters other than lowercase ASCII letters, `.` and `*`<br>\n",
    "__A__: No.\n",
    "\n",
    "__Q__: Is the pattern guaranteed to be valid? For example, will there always be a character before `*`?<br>\n",
    "__A__: Yes.\n",
    "\n",
    "__Q__: Should the match cover the entire input string, or is partial matching acceptable?<br>\n",
    "__A__: We want the full coverage here."
   ]
  },
  {
   "cell_type": "code",
   "execution_count": 23,
   "metadata": {},
   "outputs": [
    {
     "name": "stdout",
     "output_type": "stream",
     "text": [
      "True\n",
      "True\n",
      "False\n",
      "True\n",
      "True\n",
      "True\n",
      "True\n",
      "True\n"
     ]
    }
   ],
   "source": [
    "def regex_matching_with_wildcard(i, j, s, p):\n",
    "    M, N = len(s), len(p)\n",
    "    while i < M and j < N:\n",
    "        if j + 1 < N and p[j + 1] == '*':\n",
    "            # we either match s[i] with p[j] or s[i] with p[j + 2]\n",
    "            return ((s[i] == p[j] or p[j] == '.') and regex_matching_with_wildcard(i + 1, j, s, p)) or regex_matching_with_wildcard(i, j + 2, s, p)\n",
    "        else:\n",
    "            if s[i] == p[j] or p[j] == '.':\n",
    "                i += 1\n",
    "                j += 1\n",
    "            else:\n",
    "                return False\n",
    "    if i == M and j < N:\n",
    "        if j + 1 < N and p[j + 1] == '*':\n",
    "            return regex_matching_with_wildcard(i, j + 2, s, p)\n",
    "        else:\n",
    "            return False\n",
    "    elif i == M and j == N:\n",
    "        return True\n",
    "    elif i < M and j >= N:\n",
    "        return False\n",
    "    \n",
    "    \n",
    "print(regex_matching_with_wildcard(0, 0, 'aa', 'a*'))\n",
    "print(regex_matching_with_wildcard(0, 0, 'dataStructure', '.*'))\n",
    "print(regex_matching_with_wildcard(0, 0, 'dataStructure', '.*x.*'))\n",
    "print(regex_matching_with_wildcard(0, 0, 'aab', 'c*a*b'))\n",
    "print(regex_matching_with_wildcard(0, 0, 'aaa', 'a*a'))\n",
    "print(regex_matching_with_wildcard(0, 0, 'ababab', '.*ab'))\n",
    "print(regex_matching_with_wildcard(0, 0, 'aab', 'aab*'))\n",
    "print(regex_matching_with_wildcard(0, 0, 'aab', 'aab*b'))\n",
    "#print(regex_matching(0, 0, 'aaaaaaaaaaaaaaaaaaab', 'a*a*a*a*a*a*a*a*a*a*'))\n",
    "\n",
    " # Time complexity: tbd\n",
    " # Space complexity: tbd"
   ]
  },
  {
   "cell_type": "markdown",
   "metadata": {},
   "source": [
    "More efficient implementation:"
   ]
  },
  {
   "cell_type": "code",
   "execution_count": 27,
   "metadata": {},
   "outputs": [
    {
     "name": "stdout",
     "output_type": "stream",
     "text": [
      "True\n"
     ]
    }
   ],
   "source": [
    "def improved_regex_matching_with_wildcard(s, p):\n",
    "    M, N = len(s), len(p)\n",
    "    if N == 0:\n",
    "        return M == 0\n",
    "    else:\n",
    "        first_match = bool(s) and (p[0] in {s[0], '.'})\n",
    "        if N >=2 and p[1] == '*':\n",
    "            return improved_regex_matching_with_wildcard(s, p[2:]) or (first_match and improved_regex_matching_with_wildcard(s[1:], p))\n",
    "        else:\n",
    "            return first_match and improved_regex_matching_with_wildcard(s[1:], p[1:])\n",
    "\n",
    "print(improved_regex_matching_with_wildcard('aa', 'a*'))\n",
    "#print(improved_regex_matching_with_wildcard('aaaaaaaaaaaaaaaaaaab', 'a*a*a*a*a*a*a*a*a*a*')) # Takes 8.9s\n",
    "\n",
    "# Time complexity: tbd\n",
    "# Space complexity: tbd"
   ]
  },
  {
   "cell_type": "markdown",
   "metadata": {},
   "source": [
    "## New Approach: Dynamic Programming"
   ]
  },
  {
   "cell_type": "code",
   "execution_count": null,
   "metadata": {},
   "outputs": [],
   "source": []
  }
 ],
 "metadata": {
  "kernelspec": {
   "display_name": "Python 3",
   "language": "python",
   "name": "python3"
  },
  "language_info": {
   "codemirror_mode": {
    "name": "ipython",
    "version": 3
   },
   "file_extension": ".py",
   "mimetype": "text/x-python",
   "name": "python",
   "nbconvert_exporter": "python",
   "pygments_lexer": "ipython3",
   "version": "3.9.6"
  }
 },
 "nbformat": 4,
 "nbformat_minor": 2
}
