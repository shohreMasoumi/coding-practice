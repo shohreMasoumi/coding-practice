{
 "cells": [
  {
   "cell_type": "markdown",
   "metadata": {},
   "source": [
    "# Sum Root to Leaf Numbers\n",
    "\n",
    "*Leetcode 129*: [link](https://leetcode.com/problems/sum-root-to-leaf-numbers/description/)\n",
    "\n",
    "Given the root of a binary tree, where each path from the root to a leaf represents a number, return the total sum of all these root-to-leaf numbers.\n",
    "\n",
    "``` python\n",
    "def sum_root_to_leafs(root):\n",
    "    \"\"\"\n",
    "    Args:\n",
    "      root (Tree_node): the root of a binary tree\n",
    "    Returns:\n",
    "      the total sum of all root-to-leaf numbers\n",
    "    \"\"\"\n",
    "    pass\n",
    "```\n",
    "\n",
    "Example 1:\n",
    "```\n",
    "Input: nums = [1, 2, 3]\n",
    "Output: 25\n",
    "Explanation: \n",
    "  path 1: 1 -> 2\n",
    "  path 2: 1 -> 3\n",
    "  final answer: 12 + 13\n",
    "```\n",
    "\n",
    "<style>\n",
    "/* CSS to change font size of code blocks */\n",
    "pre {\n",
    "    font-size: 12px; /* Adjust the font size as needed */\n",
    "}\n",
    "code {\n",
    "    font-size: small; /* Adjust the font size as needed */\n",
    "}\n",
    "</style> "
   ]
  },
  {
   "cell_type": "markdown",
   "metadata": {},
   "source": [
    "## Before Starting\n",
    "\n",
    "__Q__: What are the constraints on the values that nodes can have in this binary tree?<br>\n",
    "__A__: Each node will only contain digits from 0 to 9"
   ]
  },
  {
   "cell_type": "code",
   "execution_count": 54,
   "metadata": {},
   "outputs": [],
   "source": [
    "class Tree:\n",
    "    def __init__(self, root = None):\n",
    "        self.root = root\n",
    "    \n",
    "    def inorder_sequence(self):\n",
    "        if self.root is None:\n",
    "            return \"\"\n",
    "        queue = [self.root]\n",
    "        ans = []\n",
    "        while queue:\n",
    "            current_node = queue.pop(0)\n",
    "            ans += [str(current_node.val)]\n",
    "            if current_node.left_child is not None:\n",
    "                queue += [current_node.left_child]\n",
    "            if current_node.right_child is not None:\n",
    "                queue += [current_node.right_child]\n",
    "\n",
    "        return ', '.join(ans)\n",
    "\n",
    "class Tree_node:\n",
    "    def __init__(self, val, left_child = None, right_child = None):\n",
    "        self.val = val\n",
    "        self.left_child = left_child\n",
    "        self.right_child = right_child\n",
    "        "
   ]
  },
  {
   "cell_type": "code",
   "execution_count": 55,
   "metadata": {},
   "outputs": [
    {
     "name": "stdout",
     "output_type": "stream",
     "text": [
      "\n",
      "1, 2, 3\n",
      "4, 9, 0, 5, 1\n",
      "0, 1, 2, 3, 4, 7, 8\n",
      "0, 1, 2, 4, 5\n"
     ]
    }
   ],
   "source": [
    "def convert_list_to_binary_tree(nums):\n",
    "    # Time complexity: O(N) - visits every list element ones\n",
    "    # Space complexity: O(N) - number of the tree nodes\n",
    "    tree = []\n",
    "    for i in range(len(nums)):\n",
    "        new_node = Tree_node(val = nums[i]) if nums[i] != None else None\n",
    "        if i > 0:\n",
    "            if i % 2 == 1:\n",
    "                parent_ind = int(i / 2)\n",
    "                tree[parent_ind].left_child = new_node\n",
    "            else:\n",
    "                parent_ind = int((i - 1) / 2)\n",
    "                tree[parent_ind].right_child = new_node\n",
    "        tree += [new_node]\n",
    "    return tree[0] if tree else None\n",
    "\n",
    "tree1 = Tree(root = convert_list_to_binary_tree([]))\n",
    "print(tree1.inorder_sequence())\n",
    "tree2 = Tree(root = convert_list_to_binary_tree([1,2,3]))\n",
    "print(tree2.inorder_sequence())\n",
    "tree3 = Tree(root = convert_list_to_binary_tree([4,9,0,5,1]))\n",
    "print(tree3.inorder_sequence())\n",
    "tree4 = Tree(root = convert_list_to_binary_tree([0, 1, 2, 3, 4, None, None, 7, 8]))\n",
    "print(tree4.inorder_sequence())\n",
    "tree5 = Tree(root = convert_list_to_binary_tree([0, 1, 2, None, None, 4, 5]))\n",
    "print(tree5.inorder_sequence())"
   ]
  },
  {
   "cell_type": "markdown",
   "metadata": {},
   "source": [
    "some improvements for readability and efficiency:\n",
    "\n",
    "- Avoid using list concatenation (`+=`) for efficiency.\n",
    "- Handle empty lists and indexing more cleanly."
   ]
  },
  {
   "cell_type": "code",
   "execution_count": 59,
   "metadata": {},
   "outputs": [
    {
     "name": "stdout",
     "output_type": "stream",
     "text": [
      "\n",
      "1, 2, 3\n",
      "4, 9, 0, 5, 1\n",
      "0, 1, 2, 3, 4, 7, 8\n",
      "0, 1, 2, 4, 5\n"
     ]
    }
   ],
   "source": [
    "def convert_list_to_binary_tree_improved(nums):\n",
    "    tree = [Tree_node(val = num) if num is not None else None for num in nums]\n",
    "    N = len(tree)\n",
    "    for i in range(N):\n",
    "        if tree[i] is None:\n",
    "            continue\n",
    "        if 2 * i < N:\n",
    "            tree[i].left = tree[2 * i]\n",
    "        if 2 * i + 1 < N:\n",
    "            tree[i].right = tree[2 * i + 1]\n",
    "\n",
    "    return tree[0] if tree else None\n",
    "\n",
    "root1 = convert_list_to_binary_tree([])\n",
    "tree1 = Tree(root = root1)\n",
    "print(tree1.inorder_sequence())\n",
    "root2 = convert_list_to_binary_tree([1,2,3])\n",
    "tree2 = Tree(root = root2)\n",
    "print(tree2.inorder_sequence())\n",
    "root3 = convert_list_to_binary_tree([4,9,0,5,1])\n",
    "tree3 = Tree(root = root3)\n",
    "print(tree3.inorder_sequence())\n",
    "root4 = convert_list_to_binary_tree([0, 1, 2, 3, 4, None, None, 7, 8])\n",
    "tree4 = Tree(root = root4)\n",
    "print(tree4.inorder_sequence())\n",
    "root5 = convert_list_to_binary_tree([0, 1, 2, None, None, 4, 5])\n",
    "tree5 = Tree(root = root5)\n",
    "print(tree5.inorder_sequence())"
   ]
  },
  {
   "cell_type": "markdown",
   "metadata": {},
   "source": [
    "## Approach 1: Recursion"
   ]
  }
 ],
 "metadata": {
  "kernelspec": {
   "display_name": "Python 3",
   "language": "python",
   "name": "python3"
  },
  "language_info": {
   "codemirror_mode": {
    "name": "ipython",
    "version": 3
   },
   "file_extension": ".py",
   "mimetype": "text/x-python",
   "name": "python",
   "nbconvert_exporter": "python",
   "pygments_lexer": "ipython3",
   "version": "3.9.6"
  }
 },
 "nbformat": 4,
 "nbformat_minor": 2
}
