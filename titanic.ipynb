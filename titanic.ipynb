{
 "cells": [
  {
   "attachments": {},
   "cell_type": "markdown",
   "metadata": {},
   "source": [
    "# Kaggle's Titanic Competition\n",
    "\n",
    "[Titanic - Machine Learning from Disaster](https://www.kaggle.com/competitions/titanic)"
   ]
  },
  {
   "attachments": {},
   "cell_type": "markdown",
   "metadata": {},
   "source": [
    "## Data\n",
    "\n",
    "We are provided with two datasets (`titanic-train.csv` and `titanic-test.csv`) with the following columns: <br>\n",
    "name (`string`), pclass (Ticket class, `category`, `{1: 1st, 2: 2nd, 3: 3rd}`), sex (`category`), Age (`float`), sibsp (number of siblings, `int`), parch (number of parents, `int`), ticket (`int`), fare (`float`), cabin (`string`), embarked (Port of Embarkation, `category`, `{C: Cherbourg, Q: Queenstown, S: Southampton}`)\n",
    "\n",
    "In addition, the `titanic-train.csv` dataset also includes the ground truth regarding whether each passenger survived: survival (`boolean`)\n",
    "\n",
    "Our task is to develop a model that can accurately predict the survival variable for each row in the `titanic-test.csv` dataset.\n",
    "\n",
    "<style>\n",
    "/* CSS to change font size of code blocks */\n",
    "pre {\n",
    "    font-size: 12px; /* Adjust the font size as needed */\n",
    "}\n",
    "code {\n",
    "    font-size: small; /* Adjust the font size as needed */\n",
    "}\n",
    "</style> "
   ]
  },
  {
   "attachments": {},
   "cell_type": "markdown",
   "metadata": {},
   "source": [
    "## Exploratory Data Analysis\n",
    "\n",
    "Take a closer look at your `titanic-train.csv` data set to understand what's going on."
   ]
  },
  {
   "cell_type": "code",
   "execution_count": 22,
   "metadata": {},
   "outputs": [
    {
     "data": {
      "text/html": [
       "<div>\n",
       "<style scoped>\n",
       "    .dataframe tbody tr th:only-of-type {\n",
       "        vertical-align: middle;\n",
       "    }\n",
       "\n",
       "    .dataframe tbody tr th {\n",
       "        vertical-align: top;\n",
       "    }\n",
       "\n",
       "    .dataframe thead th {\n",
       "        text-align: right;\n",
       "    }\n",
       "</style>\n",
       "<table border=\"1\" class=\"dataframe\">\n",
       "  <thead>\n",
       "    <tr style=\"text-align: right;\">\n",
       "      <th></th>\n",
       "      <th>PassengerId</th>\n",
       "      <th>Survived</th>\n",
       "      <th>Pclass</th>\n",
       "      <th>Name</th>\n",
       "      <th>Sex</th>\n",
       "      <th>Age</th>\n",
       "      <th>SibSp</th>\n",
       "      <th>Parch</th>\n",
       "      <th>Ticket</th>\n",
       "      <th>Fare</th>\n",
       "      <th>Cabin</th>\n",
       "      <th>Embarked</th>\n",
       "    </tr>\n",
       "  </thead>\n",
       "  <tbody>\n",
       "    <tr>\n",
       "      <th>0</th>\n",
       "      <td>1</td>\n",
       "      <td>0</td>\n",
       "      <td>3</td>\n",
       "      <td>Braund, Mr. Owen Harris</td>\n",
       "      <td>male</td>\n",
       "      <td>22.0</td>\n",
       "      <td>1</td>\n",
       "      <td>0</td>\n",
       "      <td>A/5 21171</td>\n",
       "      <td>7.2500</td>\n",
       "      <td>NaN</td>\n",
       "      <td>S</td>\n",
       "    </tr>\n",
       "    <tr>\n",
       "      <th>1</th>\n",
       "      <td>2</td>\n",
       "      <td>1</td>\n",
       "      <td>1</td>\n",
       "      <td>Cumings, Mrs. John Bradley (Florence Briggs Th...</td>\n",
       "      <td>female</td>\n",
       "      <td>38.0</td>\n",
       "      <td>1</td>\n",
       "      <td>0</td>\n",
       "      <td>PC 17599</td>\n",
       "      <td>71.2833</td>\n",
       "      <td>C85</td>\n",
       "      <td>C</td>\n",
       "    </tr>\n",
       "    <tr>\n",
       "      <th>2</th>\n",
       "      <td>3</td>\n",
       "      <td>1</td>\n",
       "      <td>3</td>\n",
       "      <td>Heikkinen, Miss. Laina</td>\n",
       "      <td>female</td>\n",
       "      <td>26.0</td>\n",
       "      <td>0</td>\n",
       "      <td>0</td>\n",
       "      <td>STON/O2. 3101282</td>\n",
       "      <td>7.9250</td>\n",
       "      <td>NaN</td>\n",
       "      <td>S</td>\n",
       "    </tr>\n",
       "    <tr>\n",
       "      <th>3</th>\n",
       "      <td>4</td>\n",
       "      <td>1</td>\n",
       "      <td>1</td>\n",
       "      <td>Futrelle, Mrs. Jacques Heath (Lily May Peel)</td>\n",
       "      <td>female</td>\n",
       "      <td>35.0</td>\n",
       "      <td>1</td>\n",
       "      <td>0</td>\n",
       "      <td>113803</td>\n",
       "      <td>53.1000</td>\n",
       "      <td>C123</td>\n",
       "      <td>S</td>\n",
       "    </tr>\n",
       "    <tr>\n",
       "      <th>4</th>\n",
       "      <td>5</td>\n",
       "      <td>0</td>\n",
       "      <td>3</td>\n",
       "      <td>Allen, Mr. William Henry</td>\n",
       "      <td>male</td>\n",
       "      <td>35.0</td>\n",
       "      <td>0</td>\n",
       "      <td>0</td>\n",
       "      <td>373450</td>\n",
       "      <td>8.0500</td>\n",
       "      <td>NaN</td>\n",
       "      <td>S</td>\n",
       "    </tr>\n",
       "  </tbody>\n",
       "</table>\n",
       "</div>"
      ],
      "text/plain": [
       "   PassengerId  Survived  Pclass  \\\n",
       "0            1         0       3   \n",
       "1            2         1       1   \n",
       "2            3         1       3   \n",
       "3            4         1       1   \n",
       "4            5         0       3   \n",
       "\n",
       "                                                Name     Sex   Age  SibSp  \\\n",
       "0                            Braund, Mr. Owen Harris    male  22.0      1   \n",
       "1  Cumings, Mrs. John Bradley (Florence Briggs Th...  female  38.0      1   \n",
       "2                             Heikkinen, Miss. Laina  female  26.0      0   \n",
       "3       Futrelle, Mrs. Jacques Heath (Lily May Peel)  female  35.0      1   \n",
       "4                           Allen, Mr. William Henry    male  35.0      0   \n",
       "\n",
       "   Parch            Ticket     Fare Cabin Embarked  \n",
       "0      0         A/5 21171   7.2500   NaN        S  \n",
       "1      0          PC 17599  71.2833   C85        C  \n",
       "2      0  STON/O2. 3101282   7.9250   NaN        S  \n",
       "3      0            113803  53.1000  C123        S  \n",
       "4      0            373450   8.0500   NaN        S  "
      ]
     },
     "metadata": {},
     "output_type": "display_data"
    }
   ],
   "source": [
    "import pandas as pd\n",
    "from IPython.display import display\n",
    "\n",
    "# Display the first few rows of the DataFrame\n",
    "data_frame = pd.read_csv('./data/titanic-train.csv')\n",
    "display(data_frame.head())\n"
   ]
  },
  {
   "cell_type": "code",
   "execution_count": 23,
   "metadata": {},
   "outputs": [
    {
     "data": {
      "image/png": "[encoded data removed]",
      "text/plain": [
       "<Figure size 600x400 with 1 Axes>"
      ]
     },
     "metadata": {},
     "output_type": "display_data"
    }
   ],
   "source": [
    "# Visualize the distribution of specific features\n",
    "import matplotlib.pyplot as plt\n",
    "import seaborn as sns\n",
    "\n",
    "# Customize the appearance of the histogram\n",
    "plt.figure(figsize=(6, 4))\n",
    "plt.xlabel('Age', fontsize=12)\n",
    "plt.ylabel('Frequency', fontsize=12)\n",
    "plt.title('Distribution of Age', fontsize=14)\n",
    "plt.grid(True, linestyle='--', alpha=0.7)\n",
    "sns.despine()\n",
    "\n",
    "# Plot histogram for a specific column\n",
    "sns.histplot(data_frame['Age'], color='skyblue', kde=True)\n",
    "\n",
    "# Show the plot\n",
    "plt.show()\n",
    "\n"
   ]
  },
  {
   "attachments": {},
   "cell_type": "markdown",
   "metadata": {},
   "source": [
    "## Data Preprocessing"
   ]
  },
  {
   "attachments": {},
   "cell_type": "markdown",
   "metadata": {},
   "source": [
    "### Handling Missing Values\n",
    "\n",
    "Missing values can reduce the effectiveness of the model, as it may not have enough information to accurately learn the patterns in the data.\n",
    "\n",
    "Depending on the context and characteristics of the dataset, using statistical values to fill missing data or disregarding them entirely can both be appropriate strategies. \n",
    "\n",
    "Be careful. Improperly handling the missing values can introduce bias in the estimates of model parameters.\n",
    "\n",
    "#### Statistical Essentials\n",
    "\n",
    "- **Average** (mean) - summing all values then dividing by the total number of values:\n",
    "  - Sensitive to outliers\n",
    "- **Median** - the middle value of a dataset when it's ordered from lowest to highest\n",
    "  - A more robust in the presence of outliers or skewed distributions.\n",
    "- **Mode** - most frequent value"
   ]
  },
  {
   "cell_type": "code",
   "execution_count": 24,
   "metadata": {},
   "outputs": [
    {
     "data": {
      "text/html": [
       "<div>\n",
       "<style scoped>\n",
       "    .dataframe tbody tr th:only-of-type {\n",
       "        vertical-align: middle;\n",
       "    }\n",
       "\n",
       "    .dataframe tbody tr th {\n",
       "        vertical-align: top;\n",
       "    }\n",
       "\n",
       "    .dataframe thead th {\n",
       "        text-align: right;\n",
       "    }\n",
       "</style>\n",
       "<table border=\"1\" class=\"dataframe\">\n",
       "  <thead>\n",
       "    <tr style=\"text-align: right;\">\n",
       "      <th></th>\n",
       "      <th>Missing Values</th>\n",
       "    </tr>\n",
       "  </thead>\n",
       "  <tbody>\n",
       "    <tr>\n",
       "      <th>PassengerId</th>\n",
       "      <td>0</td>\n",
       "    </tr>\n",
       "    <tr>\n",
       "      <th>Survived</th>\n",
       "      <td>0</td>\n",
       "    </tr>\n",
       "    <tr>\n",
       "      <th>Pclass</th>\n",
       "      <td>0</td>\n",
       "    </tr>\n",
       "    <tr>\n",
       "      <th>Name</th>\n",
       "      <td>0</td>\n",
       "    </tr>\n",
       "    <tr>\n",
       "      <th>Sex</th>\n",
       "      <td>0</td>\n",
       "    </tr>\n",
       "    <tr>\n",
       "      <th>Age</th>\n",
       "      <td>177</td>\n",
       "    </tr>\n",
       "    <tr>\n",
       "      <th>SibSp</th>\n",
       "      <td>0</td>\n",
       "    </tr>\n",
       "    <tr>\n",
       "      <th>Parch</th>\n",
       "      <td>0</td>\n",
       "    </tr>\n",
       "    <tr>\n",
       "      <th>Ticket</th>\n",
       "      <td>0</td>\n",
       "    </tr>\n",
       "    <tr>\n",
       "      <th>Fare</th>\n",
       "      <td>0</td>\n",
       "    </tr>\n",
       "    <tr>\n",
       "      <th>Cabin</th>\n",
       "      <td>687</td>\n",
       "    </tr>\n",
       "    <tr>\n",
       "      <th>Embarked</th>\n",
       "      <td>2</td>\n",
       "    </tr>\n",
       "  </tbody>\n",
       "</table>\n",
       "</div>"
      ],
      "text/plain": [
       "             Missing Values\n",
       "PassengerId               0\n",
       "Survived                  0\n",
       "Pclass                    0\n",
       "Name                      0\n",
       "Sex                       0\n",
       "Age                     177\n",
       "SibSp                     0\n",
       "Parch                     0\n",
       "Ticket                    0\n",
       "Fare                      0\n",
       "Cabin                   687\n",
       "Embarked                  2"
      ]
     },
     "metadata": {},
     "output_type": "display_data"
    }
   ],
   "source": [
    "# Check for missing values\n",
    "missing_values = data_frame.isna().sum()\n",
    "\n",
    "missing_values_df = pd.DataFrame(missing_values, columns=['Missing Values'])\n",
    "display(missing_values_df)"
   ]
  },
  {
   "cell_type": "code",
   "execution_count": null,
   "metadata": {},
   "outputs": [],
   "source": [
    "# Fill the missing values for 'Age' with the median age\n",
    "data_frame['Age'].fillna(data_frame['Age'].median(), inplace=True)"
   ]
  },
  {
   "cell_type": "code",
   "execution_count": null,
   "metadata": {},
   "outputs": [],
   "source": [
    "# Fill the missing values for 'Embarked' with the mode\n",
    "mode_embarked = data_frame['Embarked'].mode()[0]\n",
    "data_frame['Embarked'].fillna(mode_embarked, inplace=True)"
   ]
  },
  {
   "cell_type": "code",
   "execution_count": 27,
   "metadata": {},
   "outputs": [],
   "source": [
    "# Drop the 'Cabin' column due to too many missing values\n",
    "data_frame.drop(columns=['Cabin'], inplace=True)"
   ]
  },
  {
   "attachments": {},
   "cell_type": "markdown",
   "metadata": {},
   "source": [
    "### Encoding Categorical Variables\n",
    "\n",
    "A categorical variable is a type of variable that can assume one of a limited number of possible values.\n",
    "\n",
    "Since many machine learning algorithms require numerical input, categorical variables should be converted into a numerical format.\n",
    "\n",
    "However, numerical values might be misinterpreted as having mathematical significance, introducing bias when they are merely labels. One-hot encoding is commonly employed to transform categorical variables into a format that preserves their categorical nature without implying ordinal relationships."
   ]
  },
  {
   "cell_type": "code",
   "execution_count": 28,
   "metadata": {},
   "outputs": [],
   "source": [
    "# Convert categorical variable 'Sex' into numerical representation\n",
    "data_frame['Sex'] = data_frame['Sex'].map({'male': 0, 'female': 1})"
   ]
  },
  {
   "cell_type": "code",
   "execution_count": 29,
   "metadata": {},
   "outputs": [],
   "source": [
    "# Perform one-hot encoding for 'Embarked' column\n",
    "data_frame = pd.get_dummies(data_frame, columns=['Embarked'], prefix='Embarked')"
   ]
  },
  {
   "attachments": {},
   "cell_type": "markdown",
   "metadata": {},
   "source": [
    "### Feature Engineering (Optional)\n",
    "\n",
    "Transforming existing features or creating new ones helps to improve the performance of your models. This requires a combination of data analysis, creativity, and domain expertise and is usually an iterative process, where you try different techniques, evaluate their impact on the model performance using validation techniques (e.g., cross-validation), and refine your features accordingly.\n",
    "\n",
    "However, the potential dangers of poorly performed feature engineering are:\n",
    "\n",
    "- **Overfitting**: Performing well on the training data but generalizing poorly to unseen data.\n",
    "\n",
    "- **Data Leakage**: When information from the test set (or future data) inadvertently leaks into the training set during feature engineering.\n",
    "\n",
    "- **High Dimensionality**: Resulting in increased computational complexity and sparsity of data.\n",
    "\n",
    "- **Incorrect Assumptions**: Incorrect assumptions about the relationships between features and the target variable can lead to the creation of misleading features.\n",
    "\n",
    "- **Loss of Interpretability**\n"
   ]
  },
  {
   "cell_type": "code",
   "execution_count": 30,
   "metadata": {},
   "outputs": [],
   "source": [
    "# creating a new feature 'FamilySize' by combining 'SibSp' and 'Parch'\n",
    "data_frame['FamilySize'] = data_frame['SibSp'] + data_frame['Parch'] + 1\n"
   ]
  },
  {
   "attachments": {},
   "cell_type": "markdown",
   "metadata": {},
   "source": [
    "### Feature Selection (Optional)\n",
    "\n",
    "Drop irrelevant features or those with low importance. Nonetheless, it's important not to lose valuable information that could be relevant for your model.\n",
    "\n",
    "Typical approaches include: filter methods, wrapper methods, and embedded methods."
   ]
  },
  {
   "cell_type": "code",
   "execution_count": 31,
   "metadata": {},
   "outputs": [],
   "source": [
    "# dropping 'PassengerId', 'Name', 'Ticket', 'SibSp', and 'Parch'\n",
    "data_frame.drop(columns=['PassengerId', 'Name', 'Ticket', 'SibSp', 'Parch'], inplace=True)\n"
   ]
  },
  {
   "attachments": {},
   "cell_type": "markdown",
   "metadata": {},
   "source": [
    "## Model Selection\n",
    "\n",
    "Different types of problems (e.g., classification, regression, clustering) require various models. Furthermore, specific data types or assumptions about the data distribution yield better results with particular models.\n",
    "\n",
    "Popular machine learning models include regressions, decision trees, support vector machines, neural networks, random forests, and gradient boosting.\n",
    "\n",
    "Next, we will discuss into some of the most commonly used models for binary classification."
   ]
  },
  {
   "attachments": {},
   "cell_type": "markdown",
   "metadata": {},
   "source": [
    "#### Linear and Logistic Regression\n",
    "\n",
    "Linear Regression assumes a linear relationship between the predictor(s) and the target variable.\n",
    "\n",
    "$$y = \\beta_0 + \\beta_1 \\cdot x_1 + \\beta_2 \\cdot x_2 + \\ldots + \\beta_n \\cdot x_n$$\n",
    "\n",
    "The values of the coefficients initially are set arbitrarily or based on some heuristics however, the optimum estimation of the values is often discovered while trying minimizes the sum of the squared differences between the observed and predicted values of the target variable. Given $X = (x_{1}, x_{2}, ...)$:\n",
    "\n",
    "$$\\text{SSE} = \\sum_{i=1}^{n} (y_i -  f(X))^2$$\n",
    "\n",
    "Since linear regression assumes a linear relationship between variables, it may not perform well with highly non-linear data.\n",
    "\n",
    "Instead of fitting a straight line to the data, logistic regression fits an S-shaped curve (sigmoid function) to the data. The logistic (sigmoid) function has the following form:\n",
    "\n",
    "$$p(y = 1 | x) = \\frac{1}{1 + e^{-(\\beta_0 + \\beta_1 \\cdot x_1 + \\beta_2 \\cdot x_2 + \\ldots + \\beta_n \\cdot x_n)}}$$\n",
    "\n",
    "This $p(y=1∣x)$ represents the probability that the target variable $y$ is 1 given the input features x.\n",
    "\n",
    "Maximum Likelihood or Gradient Descent are commonly used techniques for LR optimization."
   ]
  },
  {
   "attachments": {},
   "cell_type": "markdown",
   "metadata": {},
   "source": [
    "#### Decision Tree\n",
    "\n",
    "In this method, we recursively split the data into subsets based on different feature values to construct a tree-like structure. The splitting process continues until a stopping criterion is met, such as reaching a maximum depth, having a minimum number of data entries in a node, or no further improvement in impurity reduction. Each leaf node represents a class label (in classification) or a continuous value (in regression).\n",
    "\n",
    "The most commonly used criteria for splitting at each node are Gini impurity and Information Gain (or entropy).\n",
    "\n",
    "Example of a decision tree for predicting \"Play Tennis\" based on the features: Outlook (`category`, `{S: sunny, O: overcast, R: rainy}`), Temperature (`int`), Humidity (`int`), Wind (`category`, `{S: strong, W: weak}`).\n",
    "```\n",
    "Is Outlook Sunny?\n",
    "|--- Yes --> Play Tennis\n",
    "|--- No\n",
    "     |--- Is Outlook Overcast?\n",
    "          |--- Yes --> Play Tennis\n",
    "          |--- No\n",
    "               |--- Is Humidity High?\n",
    "                    |--- Yes --> Don't Play Tennis\n",
    "                    |--- No --> Play Tennis\n",
    "```\n",
    "\n",
    "Decision trees are simple and interpretable.\n",
    "\n",
    "<style>\n",
    "/* CSS to change font size of code blocks */\n",
    "pre {\n",
    "    font-size: 12px; /* Adjust the font size as needed */\n",
    "}\n",
    "code {\n",
    "    font-size: small; /* Adjust the font size as needed */\n",
    "}\n",
    "</style> "
   ]
  },
  {
   "attachments": {},
   "cell_type": "markdown",
   "metadata": {},
   "source": [
    "#### Random Forest\n",
    "\n",
    "Unlike a single decision tree, this method constructs multiple independent trees during training, each using random subsets of the training data. Moreover, to introduce additional randomness, only a random subset of features is considered for splitting at each node. \n",
    "\n",
    "During prediction on the test set, each data point is passed through every decision tree in the forest. Each tree autonomously predicts the outcome based on its learned rules. The final prediction is determined by the majority vote for classification tasks or by averaging the predictions for regression tasks across all trees in the forest.\n",
    "\n",
    "The Random Forest model improves performance, robustness, and generalization capabilities, especially with complex datasets. "
   ]
  },
  {
   "attachments": {},
   "cell_type": "markdown",
   "metadata": {},
   "source": [
    "#### Gradient Boosting\n",
    "\n",
    "Instead of independent trees, Gradient Boosting sequentially trains new models and hopes each model corrects the errors of its predecessor.\n",
    "\n",
    "After the initial model is trained, Gradient Boosting calculates the residuals (the differences between the actual target values and the predictions) of this model, denoted as: $R_{1}$. \n",
    "\n",
    "Next, a new model is trained to predict $R_{1}$ resulting in the calculation of $R_{2}$\n",
    "\n",
    "This iterative process continues with the aim of minimizing the residuals at each step."
   ]
  },
  {
   "cell_type": "code",
   "execution_count": 32,
   "metadata": {},
   "outputs": [],
   "source": [
    "from sklearn.linear_model import LogisticRegression\n",
    "from sklearn.tree import DecisionTreeClassifier\n",
    "from sklearn.ensemble import RandomForestClassifier, GradientBoostingClassifier\n",
    "\n",
    "models = {\n",
    "    'Logistic Regression': LogisticRegression(),\n",
    "    'Decision Tree': DecisionTreeClassifier(),\n",
    "    'Random Forest': RandomForestClassifier(),\n",
    "    'Gradient Boosting': GradientBoostingClassifier()\n",
    "}"
   ]
  },
  {
   "attachments": {},
   "cell_type": "markdown",
   "metadata": {},
   "source": [
    "## Model Training\n",
    "\n",
    "As mentioned before, the ultimate goal of machine learning is to develop a model that can make accurate predictions or decisions on new, unseen data (here, `./data/titanic-test.csv`). To achieve this, the model needs to learn the underlying patterns and relationships between the input data (features) and output (target variable), both of which are presented in `./data/titanic-train.csv`.\n",
    "\n",
    "But how does the model actually *learn*? The model learns by iteratively predicting the target variables, calculate the the difference between the predictions and ground truth (the error or loss), and adjusting the its internal parameters (e.g., weights in neural networks) to minimize a specified *loss function*.\n",
    "\n",
    "<style>\n",
    "/* CSS to change font size of code blocks */\n",
    "pre {\n",
    "    font-size: 12px; /* Adjust the font size as needed */\n",
    "}\n",
    "code {\n",
    "    font-size: small; /* Adjust the font size as needed */\n",
    "}\n",
    "</style> "
   ]
  },
  {
   "attachments": {},
   "cell_type": "markdown",
   "metadata": {},
   "source": [
    "## Evaluation\n",
    "\n",
    "To select the best model among the trained ones, we will assess their performance against a dataset that was not used during the training: the evaluation dataset.\n",
    "\n",
    "Since we do not have a separate dataset for evaluation here, we will pick up 20% of the `titanic-train.csv` to be the evaluation dataset. Hence, we will train the model only on the remaining 80% of `titanic-train.csv`.\n",
    "\n",
    "<style>\n",
    "/* CSS to change font size of code blocks */\n",
    "pre {\n",
    "    font-size: 12px; /* Adjust the font size as needed */\n",
    "}\n",
    "code {\n",
    "    font-size: small; /* Adjust the font size as needed */\n",
    "}\n",
    "</style> "
   ]
  },
  {
   "cell_type": "code",
   "execution_count": 33,
   "metadata": {},
   "outputs": [],
   "source": [
    "from sklearn.model_selection import train_test_split\n",
    "\n",
    "# Split data into training and validation sets\n",
    "feature_variables = data_frame.drop(columns=['Survived'])\n",
    "target_variable = data_frame['Survived']\n",
    "## Split the feature variables and target variable into training and validation sets\n",
    "## 20% of the data will be allocated to the validation set\n",
    "feature_variables_train, feature_variables_evaluation, target_variable_train, target_variable_evaluation = train_test_split(feature_variables, target_variable, test_size=0.2, random_state=42)\n"
   ]
  },
  {
   "attachments": {},
   "cell_type": "markdown",
   "metadata": {},
   "source": [
    "### Evaluate Metrics\n",
    "\n",
    " The evaluation metrics indicate how well the model will perform on the test dataset.\n"
   ]
  },
  {
   "attachments": {},
   "cell_type": "markdown",
   "metadata": {},
   "source": [
    "#### Accuracy\n",
    "\n",
    "Measures the ratio of correctly predicted instances to the total instances in the dataset.\n",
    "\n",
    "$$\n",
    "Accuracy = \\frac{True Positives + True Negatives}{True Positives + False Positives + True Negatives + False Negatives}\n",
    "$$\n",
    "\n",
    "While this metric is easy to understand, it can be misleading when dealing with imbalanced datasets. For example, in a test dataset of size 100 where 90 of the instances belong to class A, the model can achieve 90% accuracy if it predicts class A for all instances:\n",
    "\n",
    "$$\n",
    "Accuracy = \\frac{90 + 0}{90 + 10 + 0 + 0} = 0.9\n",
    "$$"
   ]
  },
  {
   "attachments": {},
   "cell_type": "markdown",
   "metadata": {},
   "source": [
    "#### Precision (The Accuracy of The Positive Predictions)\n",
    "\n",
    "Measures the ratio of correctly predicted positive instances to the total predicted positives. A\n",
    "\n",
    "$$\n",
    "Precision= \\frac{True Positives}{True Positives + False Positives}\n",
    "​$$\n",
    "\n",
    "This metric is particularly useful when minimizing false positives is critical (e.g., in medical diagnosis).\n",
    "But, it is not suitable in situations where false negatives are more costly than false positives.\n",
    "\n",
    "Consider a model that needs to decide whether an email is spam on a test dataset that mostly consists of non-spam emails. If the model classifies all emails as non-spam (negative predictions), precision would be calculated as:\n",
    "\n",
    "$$ Precision = \\frac{0}{0 + 0} = undefined$$\n",
    "\n",
    "In this case, precision does not provide any information about the unidentified positive instances."
   ]
  },
  {
   "attachments": {},
   "cell_type": "markdown",
   "metadata": {},
   "source": [
    "#### Recall (Sensitivity)\n",
    "\n",
    "Measures the ratio of correctly predicted positive instances to all actual positives in the dataset.x\n",
    "\n",
    "$$\n",
    "Recall= \\frac{True Positives}{True Positives + False Negatives}\n",
    "$$\n",
    "\n",
    "Recall is important when the cost of false negatives is high, and it complements precision.\n",
    "\n",
    "Consider a model which is tasked with detect fraudulent transactions in a banking system. In the test dataset of 100 records, fraudulent transactions are relatively rare, occurring in only about 1% of all transactions. Now, if a model marks all transactions as valid: \n",
    "\n",
    "$$\n",
    "Recall= \\frac{0}{0 + 10} = 0\n",
    "$$\n",
    "\n",
    "The recall of 0 does not offer useful insights into the model's ability to identify positive instances when confronted with an imbalanced dataset."
   ]
  },
  {
   "attachments": {},
   "cell_type": "markdown",
   "metadata": {},
   "source": [
    "\n",
    "#### F1-Score\n",
    "\n",
    "This score is a single metric that considers both false positives and false negatives.\n",
    "\n",
    "$$\n",
    "F1-score = 2 × \\frac{Precision × Recall}{Precision + Recall}\n",
    "$$"
   ]
  },
  {
   "attachments": {},
   "cell_type": "markdown",
   "metadata": {},
   "source": [
    "#### ROC AUC (Receiver Operating Characteristic Area Under the Curve)\n",
    "\n",
    "This metric is specifically used for binary classification problems. First we need to define two parameters:\n",
    "\n",
    "$$ True Positive Rate = \\frac{True Positive}{True positive + True Negative} $$\n",
    "\n",
    "Yes, TPR has the same definition as recall. And\n",
    "\n",
    "$$ False Positive Rate = \\frac{False Positive}{False positive + True Negative} $$\n",
    "\n",
    "An ROC curve (receiver operating characteristic curve) is a graph that illustrates the model's TPR against its FPR at various thresholds. In binary classification tasks, a threshold is a value used to convert the continuous output of a classifier into discrete class labels.\n",
    "\n",
    "\n",
    "The ROC AUC measures the area under this curve which ranges from 0 to 1. 1 indicates a perfect classifier that achieves maximum TPR (recall) and minimum FPR (false positive rate) across all threshold settings. A score below 0.5 indicates a classifier that performs worse than random chance.\n",
    "\n"
   ]
  },
  {
   "cell_type": "code",
   "execution_count": 40,
   "metadata": {},
   "outputs": [
    {
     "name": "stderr",
     "output_type": "stream",
     "text": [
      "/opt/homebrew/lib/python3.11/site-packages/sklearn/linear_model/_logistic.py:469: ConvergenceWarning: lbfgs failed to converge (status=1):\n",
      "STOP: TOTAL NO. of ITERATIONS REACHED LIMIT.\n",
      "\n",
      "Increase the number of iterations (max_iter) or scale the data as shown in:\n",
      "    https://scikit-learn.org/stable/modules/preprocessing.html\n",
      "Please also refer to the documentation for alternative solver options:\n",
      "    https://scikit-learn.org/stable/modules/linear_model.html#logistic-regression\n",
      "  n_iter_i = _check_optimize_result(\n"
     ]
    },
    {
     "data": {
      "text/html": [
       "<div>\n",
       "<style scoped>\n",
       "    .dataframe tbody tr th:only-of-type {\n",
       "        vertical-align: middle;\n",
       "    }\n",
       "\n",
       "    .dataframe tbody tr th {\n",
       "        vertical-align: top;\n",
       "    }\n",
       "\n",
       "    .dataframe thead th {\n",
       "        text-align: right;\n",
       "    }\n",
       "</style>\n",
       "<table border=\"1\" class=\"dataframe\">\n",
       "  <thead>\n",
       "    <tr style=\"text-align: right;\">\n",
       "      <th></th>\n",
       "      <th>Model</th>\n",
       "      <th>Accuracy</th>\n",
       "      <th>Precision</th>\n",
       "      <th>Recall</th>\n",
       "      <th>F1-score</th>\n",
       "      <th>ROC AUC</th>\n",
       "    </tr>\n",
       "  </thead>\n",
       "  <tbody>\n",
       "    <tr>\n",
       "      <th>0</th>\n",
       "      <td>Logistic Regression</td>\n",
       "      <td>0.804469</td>\n",
       "      <td>0.782609</td>\n",
       "      <td>0.729730</td>\n",
       "      <td>0.755245</td>\n",
       "      <td>0.793436</td>\n",
       "    </tr>\n",
       "    <tr>\n",
       "      <th>1</th>\n",
       "      <td>Decision Tree</td>\n",
       "      <td>0.754190</td>\n",
       "      <td>0.687500</td>\n",
       "      <td>0.743243</td>\n",
       "      <td>0.714286</td>\n",
       "      <td>0.752574</td>\n",
       "    </tr>\n",
       "    <tr>\n",
       "      <th>2</th>\n",
       "      <td>Random Forest</td>\n",
       "      <td>0.832402</td>\n",
       "      <td>0.797297</td>\n",
       "      <td>0.797297</td>\n",
       "      <td>0.797297</td>\n",
       "      <td>0.827220</td>\n",
       "    </tr>\n",
       "    <tr>\n",
       "      <th>3</th>\n",
       "      <td>Gradient Boosting</td>\n",
       "      <td>0.804469</td>\n",
       "      <td>0.800000</td>\n",
       "      <td>0.702703</td>\n",
       "      <td>0.748201</td>\n",
       "      <td>0.789447</td>\n",
       "    </tr>\n",
       "  </tbody>\n",
       "</table>\n",
       "</div>"
      ],
      "text/plain": [
       "                 Model  Accuracy  Precision    Recall  F1-score   ROC AUC\n",
       "0  Logistic Regression  0.804469   0.782609  0.729730  0.755245  0.793436\n",
       "1        Decision Tree  0.754190   0.687500  0.743243  0.714286  0.752574\n",
       "2        Random Forest  0.832402   0.797297  0.797297  0.797297  0.827220\n",
       "3    Gradient Boosting  0.804469   0.800000  0.702703  0.748201  0.789447"
      ]
     },
     "metadata": {},
     "output_type": "display_data"
    }
   ],
   "source": [
    "from sklearn.metrics import accuracy_score, precision_score, recall_score, f1_score, roc_auc_score\n",
    "\n",
    "# Create an empty DataFrame with evaluation metrics as keys\n",
    "evaluation_results = pd.DataFrame(columns=['Model', 'Accuracy', 'Precision', 'Recall', 'F1-score', 'ROC AUC'])\n",
    "\n",
    "# Train and evaluate models\n",
    "for name, model in models.items():\n",
    "    # Fitting the Model to the training data\n",
    "    model.fit(feature_variables_train, target_variable_train)\n",
    "    target_variable_prediction = model.predict(feature_variables_evaluation)\n",
    "    \n",
    "    # Calculate evaluation metrics\n",
    "    accuracy = accuracy_score(target_variable_evaluation, target_variable_prediction)\n",
    "    precision = precision_score(target_variable_evaluation, target_variable_prediction)\n",
    "    recall = recall_score(target_variable_evaluation, target_variable_prediction)\n",
    "    f1 = f1_score(target_variable_evaluation, target_variable_prediction)\n",
    "    roc_auc = roc_auc_score(target_variable_evaluation, target_variable_prediction)\n",
    "    \n",
    "    # Add the evaluation result of a specific model\n",
    "    evaluation_results.loc[len(evaluation_results)] = {'Model': name, 'Accuracy': accuracy, 'Precision': precision, 'Recall': recall, 'F1-score': f1, 'ROC AUC': roc_auc}\n",
    "\n",
    "# Print results\n",
    "display(evaluation_results)"
   ]
  }
 ],
 "metadata": {
  "kernelspec": {
   "display_name": "Python 3",
   "language": "python",
   "name": "python3"
  },
  "language_info": {
   "codemirror_mode": {
    "name": "ipython",
    "version": 3
   },
   "file_extension": ".py",
   "mimetype": "text/x-python",
   "name": "python",
   "nbconvert_exporter": "python",
   "pygments_lexer": "ipython3",
   "version": "3.11.3"
  },
  "orig_nbformat": 4
 },
 "nbformat": 4,
 "nbformat_minor": 2
}
